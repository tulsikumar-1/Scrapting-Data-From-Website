{
  "nbformat": 4,
  "nbformat_minor": 0,
  "metadata": {
    "colab": {
      "provenance": []
    },
    "kernelspec": {
      "name": "python3",
      "display_name": "Python 3"
    },
    "language_info": {
      "name": "python"
    }
  },
  "cells": [
    {
      "cell_type": "code",
      "execution_count": null,
      "metadata": {
        "id": "HKoilGykPOWE"
      },
      "outputs": [],
      "source": [
        "import requests\n",
        "from bs4 import BeautifulSoup"
      ]
    },
    {
      "cell_type": "code",
      "source": [
        "web_url = \"https://www.bedtime.com\"\n",
        "response = requests.get(web_url)\n",
        "soup = BeautifulSoup(response.content, 'html.parser')\n",
        "story_links = soup.find(\"div\", {\"id\": \"div_block-1335-2728\"})\n",
        "category_urls = [link[\"href\"] for link in story_links]"
      ],
      "metadata": {
        "id": "H2A6Unt6PU7B"
      },
      "execution_count": null,
      "outputs": []
    },
    {
      "cell_type": "code",
      "source": [
        "category_urls"
      ],
      "metadata": {
        "colab": {
          "base_uri": "https://localhost:8080/"
        },
        "id": "gfJFoEvcrct3",
        "outputId": "6c112c61-90d8-4a84-cc23-62355b7585d5"
      },
      "execution_count": null,
      "outputs": [
        {
          "output_type": "execute_result",
          "data": {
            "text/plain": [
              "['https://www.bedtime.com/category/stories/adventure/',\n",
              " 'https://www.bedtime.com/category/stories/animal-stories/',\n",
              " 'https://www.bedtime.com/category/stories/bedtime-stories-by-kids/',\n",
              " 'https://www.bedtime.com/category/stories/christmas',\n",
              " 'https://www.bedtime.com/category/stories/fables-bedtime-com/',\n",
              " 'https://www.bedtime.com/category/stories/fairy-tales/',\n",
              " 'https://www.bedtime.com/category/stories/funny/',\n",
              " 'https://www.bedtime.com/category/stories/history/',\n",
              " 'https://www.bedtime.com/category/stories/mysteries/',\n",
              " 'https://www.bedtime.com/category/stories/scary/',\n",
              " 'https://www.bedtime.com/category/stories/science/',\n",
              " 'https://www.bedtime.com/category/stories/sports/',\n",
              " 'https://www.bedtime.com/category/stories/warm/']"
            ]
          },
          "metadata": {},
          "execution_count": 127
        }
      ]
    },
    {
      "cell_type": "code",
      "source": [
        "clss=[]\n",
        "for url in category_urls:\n",
        "  cls=url.replace('https://www.bedtime.com/category/stories/','')\n",
        "  cls=cls.replace('/','')\n",
        "  print(cls)\n",
        "  clss.append(cls)"
      ],
      "metadata": {
        "colab": {
          "base_uri": "https://localhost:8080/"
        },
        "id": "dJGZiuXFqiws",
        "outputId": "8890089d-4723-45f1-95f7-60d5858933ea"
      },
      "execution_count": null,
      "outputs": [
        {
          "output_type": "stream",
          "name": "stdout",
          "text": [
            "adventure\n",
            "animal-stories\n",
            "bedtime-stories-by-kids\n",
            "christmas\n",
            "fables-bedtime-com\n",
            "fairy-tales\n",
            "funny\n",
            "history\n",
            "mysteries\n",
            "scary\n",
            "science\n",
            "sports\n",
            "warm\n"
          ]
        }
      ]
    },
    {
      "cell_type": "code",
      "source": [
        "all_url=[]\n",
        "for i in range(len(category_urls)):\n",
        "  response = requests.get(category_urls[i])\n",
        "  soup = BeautifulSoup(response.content, 'html.parser')\n",
        "  story_links = soup.find_all(\"a\", {\"class\": \"ct-link\"})\n",
        "  story_urls = [link[\"href\"] for link in story_links]\n",
        "  for s_url in story_urls:\n",
        "    all_url.append({'url':s_url,'class':clss[i]})\n",
        "\n"
      ],
      "metadata": {
        "id": "5XvRlK3OPj8b"
      },
      "execution_count": null,
      "outputs": []
    },
    {
      "cell_type": "code",
      "source": [
        "print(len(all_url))\n",
        "for j in reversed(range(len(all_url))):\n",
        "  if all_url[j]['url']=='https://www.bedtime.com/':\n",
        "    del all_url[j]\n",
        "print(len(all_url))"
      ],
      "metadata": {
        "colab": {
          "base_uri": "https://localhost:8080/"
        },
        "id": "w2gXjvO7PpJ-",
        "outputId": "8643a71f-fe99-40c1-d2bf-194afd08bc8c"
      },
      "execution_count": null,
      "outputs": [
        {
          "output_type": "stream",
          "name": "stdout",
          "text": [
            "402\n",
            "390\n"
          ]
        }
      ]
    },
    {
      "cell_type": "code",
      "source": [
        "#checking if there are no repeated stories\n",
        "new_urls = []\n",
        "for item in all_url:\n",
        "    if item not in new_urls:\n",
        "        new_urls.append(item)\n",
        "print(new_urls)"
      ],
      "metadata": {
        "id": "F-q5XkqRQVB9"
      },
      "execution_count": null,
      "outputs": []
    },
    {
      "cell_type": "code",
      "source": [
        "new_urls[0]"
      ],
      "metadata": {
        "colab": {
          "base_uri": "https://localhost:8080/"
        },
        "id": "A-5NDkFHWyiW",
        "outputId": "b9694745-861d-40a0-fac5-79c143dbd9b6"
      },
      "execution_count": null,
      "outputs": [
        {
          "output_type": "execute_result",
          "data": {
            "text/plain": [
              "{'url': 'https://www.bedtime.com/on-the-go-with-zibo/', 'class': 'adventure'}"
            ]
          },
          "metadata": {},
          "execution_count": 138
        }
      ]
    },
    {
      "cell_type": "code",
      "source": [
        "stories=[]\n",
        "\n",
        "for link in new_urls:\n",
        "    # print(link)\n",
        "    refined_text=[]\n",
        "    story_response = requests.get(link['url'])\n",
        "    story_soup = BeautifulSoup(story_response.content, 'html.parser')\n",
        "    # print(story_soup)\n",
        "    story_text = story_soup.find(\"span\", {\"class\": \"ct-span oxy-stock-content-styles\"})\n",
        "    \n",
        "    try:\n",
        "      p_tags = story_text.find_all('p')\n",
        "      for p in p_tags:\n",
        "        refined_text.append(p.get_text())\n",
        "    except:\n",
        "        refined_text=[]\n",
        "    story_title=story_soup.find(\"span\", {\"class\": \"ct-span\"}).text\n",
        "    #print(story_text,'url',url)\n",
        "    stories.append({'title':story_title,'story':refined_text,'class':link['class'],'url':link['url']})\n",
        "    "
      ],
      "metadata": {
        "id": "XHOTzUBwRrZb"
      },
      "execution_count": null,
      "outputs": []
    },
    {
      "cell_type": "code",
      "source": [
        "len(stories)"
      ],
      "metadata": {
        "colab": {
          "base_uri": "https://localhost:8080/"
        },
        "id": "dZrSHrrvaCTS",
        "outputId": "c9632f0e-faf4-4387-9e11-52fad4a5a1ef"
      },
      "execution_count": null,
      "outputs": [
        {
          "output_type": "execute_result",
          "data": {
            "text/plain": [
              "390"
            ]
          },
          "metadata": {},
          "execution_count": 152
        }
      ]
    },
    {
      "cell_type": "code",
      "source": [
        "#deletining rows with empty stories\n",
        "stories1=stories\n",
        "for k in reversed(range(len(stories1))):\n",
        "  if len(stories1[k]['story']) < 5:\n",
        "    del stories1[k]\n",
        "\n"
      ],
      "metadata": {
        "id": "M8lSRGNgSE8P"
      },
      "execution_count": null,
      "outputs": []
    },
    {
      "cell_type": "code",
      "source": [
        "len(stories1)"
      ],
      "metadata": {
        "colab": {
          "base_uri": "https://localhost:8080/"
        },
        "id": "NioUbeeb1Sv2",
        "outputId": "50748d52-6d43-4c93-82a9-660c99362524"
      },
      "execution_count": null,
      "outputs": [
        {
          "output_type": "execute_result",
          "data": {
            "text/plain": [
              "311"
            ]
          },
          "metadata": {},
          "execution_count": 154
        }
      ]
    },
    {
      "cell_type": "code",
      "source": [],
      "metadata": {
        "id": "PHbYQbvW1YXl"
      },
      "execution_count": null,
      "outputs": []
    },
    {
      "cell_type": "code",
      "source": [
        "import pandas as pd\n",
        "import numpy as np"
      ],
      "metadata": {
        "id": "DM6z0L6FYmLm"
      },
      "execution_count": null,
      "outputs": []
    },
    {
      "cell_type": "code",
      "source": [
        "df=pd.DataFrame(stories1)"
      ],
      "metadata": {
        "id": "MfltXiEYYmzP"
      },
      "execution_count": null,
      "outputs": []
    },
    {
      "cell_type": "code",
      "source": [
        "import os\n",
        "path= '/content/drive/MyDrive/news dataset/children stories/scraped/'\n"
      ],
      "metadata": {
        "id": "fQin3vja127e"
      },
      "execution_count": null,
      "outputs": []
    },
    {
      "cell_type": "code",
      "source": [
        "from google.colab import drive\n",
        "drive.mount('/content/drive')"
      ],
      "metadata": {
        "colab": {
          "base_uri": "https://localhost:8080/"
        },
        "id": "Zn9kknep2Vpq",
        "outputId": "5a98cc92-e971-47e5-e7ea-8d27a965c197"
      },
      "execution_count": null,
      "outputs": [
        {
          "output_type": "stream",
          "name": "stdout",
          "text": [
            "Mounted at /content/drive\n"
          ]
        }
      ]
    },
    {
      "cell_type": "code",
      "source": [
        "os.chdir(path)"
      ],
      "metadata": {
        "id": "YyA0r8zS2Rbk"
      },
      "execution_count": null,
      "outputs": []
    },
    {
      "cell_type": "code",
      "source": [
        "ls"
      ],
      "metadata": {
        "colab": {
          "base_uri": "https://localhost:8080/"
        },
        "id": "T3Fkj41y2zqF",
        "outputId": "027abc9d-d723-4905-c032-0bdd06f834ba"
      },
      "execution_count": null,
      "outputs": [
        {
          "output_type": "stream",
          "name": "stdout",
          "text": [
            "stories.csv\n"
          ]
        }
      ]
    },
    {
      "cell_type": "code",
      "source": [
        "df.to_csv('stories.csv', index=False)\n"
      ],
      "metadata": {
        "id": "bepSClAJ1y5t"
      },
      "execution_count": null,
      "outputs": []
    },
    {
      "cell_type": "code",
      "source": [
        "df"
      ],
      "metadata": {
        "colab": {
          "base_uri": "https://localhost:8080/",
          "height": 641
        },
        "id": "A480_E2MY6E6",
        "outputId": "39699a38-43f2-4dfe-c269-4c93c2947cc8"
      },
      "execution_count": null,
      "outputs": [
        {
          "output_type": "execute_result",
          "data": {
            "text/plain": [
              "                                    title  \\\n",
              "0                     On the go with Zibo   \n",
              "1                     A Walk in the Woods   \n",
              "2    A penguin, A black egg and an island   \n",
              "3                         To the Princess   \n",
              "4                      The Ultimate Quest   \n",
              "..                                    ...   \n",
              "306                         Hard Decision   \n",
              "307                  HAMILTON THE HAMSTER   \n",
              "308                  The Lion and a Mouse   \n",
              "309                            Friendship   \n",
              "310                  CALLING OF THE LOONS   \n",
              "\n",
              "                                                 story      class  \\\n",
              "0    [Zibo is a little zebra. You know what a zebra...  adventure   \n",
              "1    [He tapped the surface of the pool with the fo...  adventure   \n",
              "2    [At dawn I heard a knock on the door, it was S...  adventure   \n",
              "3    [Some Years Ago, I was a young man and I was o...  adventure   \n",
              "4    [\"Urrggh\", Owen grunted, he was in the castle ...  adventure   \n",
              "..                                                 ...        ...   \n",
              "306  [There was a Siberian husky, her name was Sibe...       warm   \n",
              "307  [By Paula Moore\\nOnce upon a time there was a ...       warm   \n",
              "308  [One day a mouse was in search of food in the ...       warm   \n",
              "309  [\"When is he coming?\" Joseph mumbled, looking ...       warm   \n",
              "310  [Morning's stillness was broken by the strange...       warm   \n",
              "\n",
              "                                                   url  \n",
              "0         https://www.bedtime.com/on-the-go-with-zibo/  \n",
              "1         https://www.bedtime.com/a-walk-in-the-woods/  \n",
              "2    https://www.bedtime.com/a-penguin-a-island-and...  \n",
              "3             https://www.bedtime.com/to-the-princess/  \n",
              "4          https://www.bedtime.com/the-ultimate-quest/  \n",
              "..                                                 ...  \n",
              "306             https://www.bedtime.com/hard-decision/  \n",
              "307      https://www.bedtime.com/hamilton-the-hamster/  \n",
              "308      https://www.bedtime.com/the-lion-and-a-mouse/  \n",
              "309                https://www.bedtime.com/friendship/  \n",
              "310      https://www.bedtime.com/calling-of-the-loons/  \n",
              "\n",
              "[311 rows x 4 columns]"
            ],
            "text/html": [
              "\n",
              "  <div id=\"df-2eb73f27-2e08-49d0-af15-91368fee095f\">\n",
              "    <div class=\"colab-df-container\">\n",
              "      <div>\n",
              "<style scoped>\n",
              "    .dataframe tbody tr th:only-of-type {\n",
              "        vertical-align: middle;\n",
              "    }\n",
              "\n",
              "    .dataframe tbody tr th {\n",
              "        vertical-align: top;\n",
              "    }\n",
              "\n",
              "    .dataframe thead th {\n",
              "        text-align: right;\n",
              "    }\n",
              "</style>\n",
              "<table border=\"1\" class=\"dataframe\">\n",
              "  <thead>\n",
              "    <tr style=\"text-align: right;\">\n",
              "      <th></th>\n",
              "      <th>title</th>\n",
              "      <th>story</th>\n",
              "      <th>class</th>\n",
              "      <th>url</th>\n",
              "    </tr>\n",
              "  </thead>\n",
              "  <tbody>\n",
              "    <tr>\n",
              "      <th>0</th>\n",
              "      <td>On the go with Zibo</td>\n",
              "      <td>[Zibo is a little zebra. You know what a zebra...</td>\n",
              "      <td>adventure</td>\n",
              "      <td>https://www.bedtime.com/on-the-go-with-zibo/</td>\n",
              "    </tr>\n",
              "    <tr>\n",
              "      <th>1</th>\n",
              "      <td>A Walk in the Woods</td>\n",
              "      <td>[He tapped the surface of the pool with the fo...</td>\n",
              "      <td>adventure</td>\n",
              "      <td>https://www.bedtime.com/a-walk-in-the-woods/</td>\n",
              "    </tr>\n",
              "    <tr>\n",
              "      <th>2</th>\n",
              "      <td>A penguin, A black egg and an island</td>\n",
              "      <td>[At dawn I heard a knock on the door, it was S...</td>\n",
              "      <td>adventure</td>\n",
              "      <td>https://www.bedtime.com/a-penguin-a-island-and...</td>\n",
              "    </tr>\n",
              "    <tr>\n",
              "      <th>3</th>\n",
              "      <td>To the Princess</td>\n",
              "      <td>[Some Years Ago, I was a young man and I was o...</td>\n",
              "      <td>adventure</td>\n",
              "      <td>https://www.bedtime.com/to-the-princess/</td>\n",
              "    </tr>\n",
              "    <tr>\n",
              "      <th>4</th>\n",
              "      <td>The Ultimate Quest</td>\n",
              "      <td>[\"Urrggh\", Owen grunted, he was in the castle ...</td>\n",
              "      <td>adventure</td>\n",
              "      <td>https://www.bedtime.com/the-ultimate-quest/</td>\n",
              "    </tr>\n",
              "    <tr>\n",
              "      <th>...</th>\n",
              "      <td>...</td>\n",
              "      <td>...</td>\n",
              "      <td>...</td>\n",
              "      <td>...</td>\n",
              "    </tr>\n",
              "    <tr>\n",
              "      <th>306</th>\n",
              "      <td>Hard Decision</td>\n",
              "      <td>[There was a Siberian husky, her name was Sibe...</td>\n",
              "      <td>warm</td>\n",
              "      <td>https://www.bedtime.com/hard-decision/</td>\n",
              "    </tr>\n",
              "    <tr>\n",
              "      <th>307</th>\n",
              "      <td>HAMILTON THE HAMSTER</td>\n",
              "      <td>[By Paula Moore\\nOnce upon a time there was a ...</td>\n",
              "      <td>warm</td>\n",
              "      <td>https://www.bedtime.com/hamilton-the-hamster/</td>\n",
              "    </tr>\n",
              "    <tr>\n",
              "      <th>308</th>\n",
              "      <td>The Lion and a Mouse</td>\n",
              "      <td>[One day a mouse was in search of food in the ...</td>\n",
              "      <td>warm</td>\n",
              "      <td>https://www.bedtime.com/the-lion-and-a-mouse/</td>\n",
              "    </tr>\n",
              "    <tr>\n",
              "      <th>309</th>\n",
              "      <td>Friendship</td>\n",
              "      <td>[\"When is he coming?\" Joseph mumbled, looking ...</td>\n",
              "      <td>warm</td>\n",
              "      <td>https://www.bedtime.com/friendship/</td>\n",
              "    </tr>\n",
              "    <tr>\n",
              "      <th>310</th>\n",
              "      <td>CALLING OF THE LOONS</td>\n",
              "      <td>[Morning's stillness was broken by the strange...</td>\n",
              "      <td>warm</td>\n",
              "      <td>https://www.bedtime.com/calling-of-the-loons/</td>\n",
              "    </tr>\n",
              "  </tbody>\n",
              "</table>\n",
              "<p>311 rows × 4 columns</p>\n",
              "</div>\n",
              "      <button class=\"colab-df-convert\" onclick=\"convertToInteractive('df-2eb73f27-2e08-49d0-af15-91368fee095f')\"\n",
              "              title=\"Convert this dataframe to an interactive table.\"\n",
              "              style=\"display:none;\">\n",
              "        \n",
              "  <svg xmlns=\"http://www.w3.org/2000/svg\" height=\"24px\"viewBox=\"0 0 24 24\"\n",
              "       width=\"24px\">\n",
              "    <path d=\"M0 0h24v24H0V0z\" fill=\"none\"/>\n",
              "    <path d=\"M18.56 5.44l.94 2.06.94-2.06 2.06-.94-2.06-.94-.94-2.06-.94 2.06-2.06.94zm-11 1L8.5 8.5l.94-2.06 2.06-.94-2.06-.94L8.5 2.5l-.94 2.06-2.06.94zm10 10l.94 2.06.94-2.06 2.06-.94-2.06-.94-.94-2.06-.94 2.06-2.06.94z\"/><path d=\"M17.41 7.96l-1.37-1.37c-.4-.4-.92-.59-1.43-.59-.52 0-1.04.2-1.43.59L10.3 9.45l-7.72 7.72c-.78.78-.78 2.05 0 2.83L4 21.41c.39.39.9.59 1.41.59.51 0 1.02-.2 1.41-.59l7.78-7.78 2.81-2.81c.8-.78.8-2.07 0-2.86zM5.41 20L4 18.59l7.72-7.72 1.47 1.35L5.41 20z\"/>\n",
              "  </svg>\n",
              "      </button>\n",
              "      \n",
              "  <style>\n",
              "    .colab-df-container {\n",
              "      display:flex;\n",
              "      flex-wrap:wrap;\n",
              "      gap: 12px;\n",
              "    }\n",
              "\n",
              "    .colab-df-convert {\n",
              "      background-color: #E8F0FE;\n",
              "      border: none;\n",
              "      border-radius: 50%;\n",
              "      cursor: pointer;\n",
              "      display: none;\n",
              "      fill: #1967D2;\n",
              "      height: 32px;\n",
              "      padding: 0 0 0 0;\n",
              "      width: 32px;\n",
              "    }\n",
              "\n",
              "    .colab-df-convert:hover {\n",
              "      background-color: #E2EBFA;\n",
              "      box-shadow: 0px 1px 2px rgba(60, 64, 67, 0.3), 0px 1px 3px 1px rgba(60, 64, 67, 0.15);\n",
              "      fill: #174EA6;\n",
              "    }\n",
              "\n",
              "    [theme=dark] .colab-df-convert {\n",
              "      background-color: #3B4455;\n",
              "      fill: #D2E3FC;\n",
              "    }\n",
              "\n",
              "    [theme=dark] .colab-df-convert:hover {\n",
              "      background-color: #434B5C;\n",
              "      box-shadow: 0px 1px 3px 1px rgba(0, 0, 0, 0.15);\n",
              "      filter: drop-shadow(0px 1px 2px rgba(0, 0, 0, 0.3));\n",
              "      fill: #FFFFFF;\n",
              "    }\n",
              "  </style>\n",
              "\n",
              "      <script>\n",
              "        const buttonEl =\n",
              "          document.querySelector('#df-2eb73f27-2e08-49d0-af15-91368fee095f button.colab-df-convert');\n",
              "        buttonEl.style.display =\n",
              "          google.colab.kernel.accessAllowed ? 'block' : 'none';\n",
              "\n",
              "        async function convertToInteractive(key) {\n",
              "          const element = document.querySelector('#df-2eb73f27-2e08-49d0-af15-91368fee095f');\n",
              "          const dataTable =\n",
              "            await google.colab.kernel.invokeFunction('convertToInteractive',\n",
              "                                                     [key], {});\n",
              "          if (!dataTable) return;\n",
              "\n",
              "          const docLinkHtml = 'Like what you see? Visit the ' +\n",
              "            '<a target=\"_blank\" href=https://colab.research.google.com/notebooks/data_table.ipynb>data table notebook</a>'\n",
              "            + ' to learn more about interactive tables.';\n",
              "          element.innerHTML = '';\n",
              "          dataTable['output_type'] = 'display_data';\n",
              "          await google.colab.output.renderOutput(dataTable, element);\n",
              "          const docLink = document.createElement('div');\n",
              "          docLink.innerHTML = docLinkHtml;\n",
              "          element.appendChild(docLink);\n",
              "        }\n",
              "      </script>\n",
              "    </div>\n",
              "  </div>\n",
              "  "
            ]
          },
          "metadata": {},
          "execution_count": 156
        }
      ]
    }
  ]
}